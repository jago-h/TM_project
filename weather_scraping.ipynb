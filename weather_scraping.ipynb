{
 "cells": [
  {
   "cell_type": "markdown",
   "id": "bc6b44e4",
   "metadata": {},
   "source": [
    "## Preliminaries"
   ]
  },
  {
   "cell_type": "code",
   "execution_count": 1,
   "id": "a3bb4b86",
   "metadata": {},
   "outputs": [],
   "source": [
    "# downloads\n",
    "import pandas as pd\n",
    "from datetime import datetime, timedelta"
   ]
  },
  {
   "cell_type": "markdown",
   "id": "322cf3e3",
   "metadata": {},
   "source": [
    "### Coordinates cleaning\n"
   ]
  },
  {
   "cell_type": "markdown",
   "id": "d60c071a",
   "metadata": {},
   "source": [
    "Note: with the current code, the highest # of iterations/ (weather records for each day) is **100**, therefore the df should contain 100 rows."
   ]
  },
  {
   "cell_type": "code",
   "execution_count": 2,
   "id": "b1f26a7f",
   "metadata": {},
   "outputs": [],
   "source": [
    "# import file\n",
    "df = pd.read_csv(\"split_1.csv\")"
   ]
  },
  {
   "cell_type": "code",
   "execution_count": 3,
   "id": "e204611b",
   "metadata": {},
   "outputs": [
    {
     "data": {
      "text/html": [
       "<div>\n",
       "<style scoped>\n",
       "    .dataframe tbody tr th:only-of-type {\n",
       "        vertical-align: middle;\n",
       "    }\n",
       "\n",
       "    .dataframe tbody tr th {\n",
       "        vertical-align: top;\n",
       "    }\n",
       "\n",
       "    .dataframe thead th {\n",
       "        text-align: right;\n",
       "    }\n",
       "</style>\n",
       "<table border=\"1\" class=\"dataframe\">\n",
       "  <thead>\n",
       "    <tr style=\"text-align: right;\">\n",
       "      <th></th>\n",
       "      <th>latitude</th>\n",
       "      <th>longitude</th>\n",
       "      <th>date</th>\n",
       "    </tr>\n",
       "  </thead>\n",
       "  <tbody>\n",
       "    <tr>\n",
       "      <th>0</th>\n",
       "      <td>29.949078</td>\n",
       "      <td>-90.135376</td>\n",
       "      <td>2011-02-15 14:59:25</td>\n",
       "    </tr>\n",
       "    <tr>\n",
       "      <th>1</th>\n",
       "      <td>39.949913</td>\n",
       "      <td>-75.173645</td>\n",
       "      <td>2012-09-02 23:26:19</td>\n",
       "    </tr>\n",
       "    <tr>\n",
       "      <th>2</th>\n",
       "      <td>27.725734</td>\n",
       "      <td>-82.741675</td>\n",
       "      <td>2017-11-04 01:47:40</td>\n",
       "    </tr>\n",
       "    <tr>\n",
       "      <th>3</th>\n",
       "      <td>35.990355</td>\n",
       "      <td>-86.597842</td>\n",
       "      <td>2017-09-12 23:39:36</td>\n",
       "    </tr>\n",
       "    <tr>\n",
       "      <th>4</th>\n",
       "      <td>39.944041</td>\n",
       "      <td>-75.170020</td>\n",
       "      <td>2021-01-17 21:26:42</td>\n",
       "    </tr>\n",
       "  </tbody>\n",
       "</table>\n",
       "</div>"
      ],
      "text/plain": [
       "    latitude  longitude                 date\n",
       "0  29.949078 -90.135376  2011-02-15 14:59:25\n",
       "1  39.949913 -75.173645  2012-09-02 23:26:19\n",
       "2  27.725734 -82.741675  2017-11-04 01:47:40\n",
       "3  35.990355 -86.597842  2017-09-12 23:39:36\n",
       "4  39.944041 -75.170020  2021-01-17 21:26:42"
      ]
     },
     "execution_count": 3,
     "metadata": {},
     "output_type": "execute_result"
    }
   ],
   "source": [
    "# show file\n",
    "df.head()"
   ]
  },
  {
   "cell_type": "markdown",
   "id": "b4024b0b",
   "metadata": {},
   "source": [
    "### Scraping weather\n"
   ]
  },
  {
   "cell_type": "markdown",
   "id": "90ad10a5",
   "metadata": {},
   "source": [
    "We are following the sample from https://github.com/m0rp43us/openmeteopy/blob/main/Readme/HISTORICAL_WEATHER.md"
   ]
  },
  {
   "cell_type": "code",
   "execution_count": 4,
   "id": "171167c1",
   "metadata": {},
   "outputs": [],
   "source": [
    "# downloads\n",
    "from openmeteo_py import OWmanager\n",
    "from openmeteo_py.Hourly.HourlyHistorical import HourlyHistorical\n",
    "from openmeteo_py.Options.HistoricalOptions import HistoricalOptions\n",
    "from openmeteo_py.Utils.constants import *\n",
    "\n",
    "# initial settings\n",
    "latitude_column = \"latitude\"\n",
    "longitude_column = \"longitude\"\n",
    "timestamp_column = \"timestamp\"\n",
    "temperature_column = \"temperature\"\n",
    "precipitation_column = \"precipitation\"\n",
    "weathercode_column = \"weathercode\"\n",
    "windspeed_column = \"windspeed\"\n",
    "date_column = \"date\""
   ]
  },
  {
   "cell_type": "code",
   "execution_count": 5,
   "id": "baa72ce1",
   "metadata": {},
   "outputs": [],
   "source": [
    "# Define a function to make an API call for a given latitude, longitude, and date (Y-M-D!)\n",
    "def get_weather_data(latitude, longitude, date):\n",
    "    # convert day\n",
    "    dt_obj = datetime.strptime(date, \"%Y-%m-%d %H:%M:%S\")\n",
    "    day = dt_obj.strftime(\"%Y-%m-%d\")\n",
    "    hourly = HourlyHistorical()\n",
    "    options = HistoricalOptions(latitude,longitude,nan,True,celsius,kmh,mm,iso8601,utc,day, day)\n",
    "\n",
    "    #notice that we had to give the value \"None\" for the hourly parameter,otherwise you'll be filling the hourly parameter instead of the daily one.\n",
    "    mgr_T = OWmanager(options, OWmanager.historical, hourly.temperature_2m())\n",
    "    mgr_W = OWmanager(options, OWmanager.historical, hourly.windspeed_10m())\n",
    "    mgr_P = OWmanager(options, OWmanager.historical, hourly.precipitation())\n",
    "    mgr_WC = OWmanager(options, OWmanager.historical, hourly.weathercode())\n",
    "\n",
    "    # Download data,here we want it as a key value json where the keys are dates and values the corresponding values of that date (technically timestamp)\n",
    "    temp = mgr_T.get_data(1)\n",
    "    wind = mgr_W.get_data(1)\n",
    "    prec = mgr_P.get_data(1)\n",
    "    wcode = mgr_WC.get_data(1)\n",
    "    \n",
    "    # convert date\n",
    "    dt = datetime.strptime(date, '%Y-%m-%d %H:%M:%S')\n",
    "    # round to the nearest hour\n",
    "    dt_rounded = dt.replace(minute=0, second=0, microsecond=0)\n",
    "    # format the datetime object to the desired string format\n",
    "    date = dt_rounded.strftime('%Y-%m-%dT%H:%M')\n",
    "    \n",
    "    # get data for the specific hour\n",
    "    if date in temp['hourly']['temperature_2m']:\n",
    "        temperature = temp['hourly']['temperature_2m'][date]\n",
    "    else:\n",
    "        temperature = None\n",
    "        \n",
    "    if date in wind['hourly']['windspeed_10m']:\n",
    "        windspeed = wind['hourly']['windspeed_10m'][date]\n",
    "    else:\n",
    "        windspeed = None\n",
    "        \n",
    "    if date in prec['hourly']['precipitation']:\n",
    "        precipitation = prec['hourly']['precipitation'][date]\n",
    "    else:\n",
    "        precipitation = None\n",
    "        \n",
    "    if date in wcode['hourly']['weathercode']:\n",
    "        weathercode = wcode['hourly']['weathercode'][date]\n",
    "    else:\n",
    "        weathercode = None\n",
    "\n",
    "\n",
    "    \n",
    "    return temperature, windspeed, precipitation, weathercode"
   ]
  },
  {
   "cell_type": "code",
   "execution_count": 6,
   "id": "f5411093",
   "metadata": {},
   "outputs": [
    {
     "name": "stdout",
     "output_type": "stream",
     "text": [
      "(22.3, 12.0, 0.0, 0)\n"
     ]
    }
   ],
   "source": [
    "# check if the function works properly\n",
    "timestamp = '2022-01-19 19:48:13'\n",
    "latitude = 27.564\n",
    "longitude = -82.565\n",
    "print(get_weather_data(latitude, longitude, timestamp))"
   ]
  },
  {
   "cell_type": "markdown",
   "id": "d5e52834",
   "metadata": {},
   "source": [
    "## Joining weather to our coordinates"
   ]
  },
  {
   "cell_type": "code",
   "execution_count": null,
   "id": "eed11cf6",
   "metadata": {},
   "outputs": [
    {
     "name": "stdout",
     "output_type": "stream",
     "text": [
      "Processed 0 rows.\n"
     ]
    }
   ],
   "source": [
    "# iterate over the rows of the dataframe and get the weather data for each timestamp\n",
    "for index, row in df.iterrows():\n",
    "    # get the latitude, longitude, and timestamp from the current row\n",
    "    latitude = row[latitude_column]\n",
    "    longitude = row[longitude_column]\n",
    "    date = row[date_column]\n",
    "    temperature, windspeed, precipitation, weathercode = get_weather_data(latitude, longitude, date)\n",
    "        \n",
    "    # update the dataframe with the weather data\n",
    "    df.loc[index, temperature_column] = temperature\n",
    "    df.loc[index, precipitation_column] = precipitation\n",
    "    df.loc[index, weathercode_column] = weathercode\n",
    "    df.loc[index, windspeed_column] = windspeed\n",
    "    \n",
    "    if index % 500 == 0:\n",
    "        print(f\"Processed {index} rows.\")"
   ]
  },
  {
   "cell_type": "code",
   "execution_count": 12,
   "id": "e90bcef1",
   "metadata": {},
   "outputs": [
    {
     "name": "stdout",
     "output_type": "stream",
     "text": [
      "   latitude  longitude                 date  temperature  precipitation  \\\n",
      "0    30.026    -90.238  2022-01-19 19:48:13         20.8            0.2   \n",
      "1    34.423   -119.703  2022-01-19 19:39:46         14.6            0.0   \n",
      "2    27.841    -82.685  2022-01-19 19:37:15         19.8            0.0   \n",
      "3    27.960    -82.463  2022-01-19 19:29:13         20.8            0.0   \n",
      "4    40.181    -75.106  2022-01-19 19:27:53          8.0            0.0   \n",
      "\n",
      "   weathercode  windspeed  \n",
      "0         51.0       13.2  \n",
      "1          0.0        3.5  \n",
      "2          0.0        5.5  \n",
      "3          0.0       10.7  \n",
      "4          0.0       17.4  \n"
     ]
    }
   ],
   "source": [
    "# check the data\n",
    "print(df.head())"
   ]
  },
  {
   "cell_type": "markdown",
   "id": "1c062a0e",
   "metadata": {},
   "source": [
    "### Saving the data"
   ]
  },
  {
   "cell_type": "code",
   "execution_count": 106,
   "id": "25e887bd",
   "metadata": {},
   "outputs": [],
   "source": [
    "# load into CSV file\n",
    "csv_name = \"weather_coordinates.csv\"\n",
    "df.to_csv(csv_name, index=False)"
   ]
  },
  {
   "cell_type": "code",
   "execution_count": null,
   "id": "1d7ac57f",
   "metadata": {},
   "outputs": [],
   "source": []
  }
 ],
 "metadata": {
  "kernelspec": {
   "display_name": "Python 3 (ipykernel)",
   "language": "python",
   "name": "python3"
  },
  "language_info": {
   "codemirror_mode": {
    "name": "ipython",
    "version": 3
   },
   "file_extension": ".py",
   "mimetype": "text/x-python",
   "name": "python",
   "nbconvert_exporter": "python",
   "pygments_lexer": "ipython3",
   "version": "3.9.16"
  }
 },
 "nbformat": 4,
 "nbformat_minor": 5
}
